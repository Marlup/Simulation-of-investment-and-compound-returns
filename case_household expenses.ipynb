{
 "cells": [
  {
   "cell_type": "markdown",
   "metadata": {
    "id": "ADUGA2BDCMA-"
   },
   "source": [
    "### Virtual case of household expenses"
   ]
  },
  {
   "cell_type": "code",
   "execution_count": 7,
   "metadata": {
    "colab": {
     "base_uri": "https://localhost:8080/"
    },
    "id": "ouaf5abcFnQd",
    "outputId": "d81958f6-b55d-4607-a07e-f44a65825d75"
   },
   "outputs": [
    {
     "name": "stdout",
     "output_type": "stream",
     "text": [
      "Total monthly expenses: 2691.6666666666665\n",
      "Total incomes: 1050000\n",
      "Total expenses: 1569000.0\n"
     ]
    }
   ],
   "source": [
    "pct_unexpected_expenses = 0.1\n",
    "pct_investment = 0.1\n",
    "\n",
    "# Net income\n",
    "yearly_net_income = 35000\n",
    "years = 30\n",
    "total_incomes = yearly_net_income * years\n",
    "\n",
    "# Expenses\n",
    "house_price = 600000\n",
    "grocery_month = 600\n",
    "electricity = 150\n",
    "gas = 100\n",
    "water = 50\n",
    "communications = 150\n",
    "insurances = 100\n",
    "home_insurance = 500 / MONTHS_IN_YEAR\n",
    "clothing_drugs_cleaning = 150\n",
    "overall_maintenance = 200\n",
    "\n",
    "# Two options for unexpected expenses:\n",
    "# Constant: 50\n",
    "# (preferred) Income dependent: 5% to 10% of monthly net income\n",
    "unexpected_expenses = (50, pct_unexpected_expenses * yearly_net_income / MONTHS_IN_YEAR)\n",
    "neighborhood_community = 100\n",
    "# Real State Assets (RSA)\n",
    "RSA_tax = 500 / MONTHS_IN_YEAR\n",
    "garbage_tax = 100 / MONTHS_IN_YEAR\n",
    "leisures = 200\n",
    "holidays = 2000 / MONTHS_IN_YEAR\n",
    "investments = pct_investment * yearly_net_income / MONTHS_IN_YEAR\n",
    "\n",
    "# Combine all monthly expenses into a tuple\n",
    "total_month = (\n",
    "    grocery_month, electricity, gas, water, communications, insurances,\n",
    "    clothing_drugs_cleaning, overall_maintenance, sum(unexpected_expenses),\n",
    "    neighborhood_community, RSA_tax, home_insurance, garbage_tax, leisures,\n",
    "    holidays, investments\n",
    ")\n",
    "\n",
    "# Calculate total annual expenses\n",
    "total_expenses = house_price + sum(total_month) * years * MONTHS_IN_YEAR\n",
    "\n",
    "# Print the results\n",
    "print(f'Total monthly expenses: {sum(total_month)}')\n",
    "print(f'Total incomes: {total_incomes}')\n",
    "print(f'Total expenses: {total_expenses}')"
   ]
  },
  {
   "cell_type": "code",
   "execution_count": 5,
   "metadata": {
    "colab": {
     "base_uri": "https://localhost:8080/"
    },
    "id": "3y8aqGsWEr9N",
    "outputId": "1226ff7d-ee9c-4efc-e9c2-47ada5f41a25"
   },
   "outputs": [
    {
     "data": {
      "text/plain": [
       "(240000.0, 1000.0)"
      ]
     },
     "execution_count": 5,
     "metadata": {},
     "output_type": "execute_result"
    }
   ],
   "source": [
    "# Mortgage Parameters\n",
    "down_payment_percentage = 0.4  # Down payment as a percentage of the house price\n",
    "\n",
    "# Calculate Mortgage Down Payment\n",
    "mortgage_down_payment = house_price * down_payment_percentage\n",
    "\n",
    "# Calculate Monthly Mortgage Down Payment\n",
    "total_months = MONTHS_IN_YEAR * years\n",
    "monthly_mortgage_down_payment = (house_price - mortgage_down_payment) / total_months\n",
    "\n",
    "mortgage_down_payment, monthly_mortgage_down_payment"
   ]
  },
  {
   "cell_type": "code",
   "execution_count": null,
   "metadata": {
    "id": "Oq0u87s_R-SB"
   },
   "outputs": [],
   "source": []
  }
 ],
 "metadata": {
  "colab": {
   "provenance": []
  },
  "kernelspec": {
   "display_name": "Python 3 (ipykernel)",
   "language": "python",
   "name": "python3"
  },
  "language_info": {
   "codemirror_mode": {
    "name": "ipython",
    "version": 3
   },
   "file_extension": ".py",
   "mimetype": "text/x-python",
   "name": "python",
   "nbconvert_exporter": "python",
   "pygments_lexer": "ipython3",
   "version": "3.9.18"
  }
 },
 "nbformat": 4,
 "nbformat_minor": 1
}
